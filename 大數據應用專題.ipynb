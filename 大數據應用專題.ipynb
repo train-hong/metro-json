{
  "nbformat": 4,
  "nbformat_minor": 0,
  "metadata": {
    "colab": {
      "name": "大數據應用專題",
      "provenance": [],
      "collapsed_sections": [],
      "authorship_tag": "ABX9TyNRlwAB3eBVjbWC1eFA1riG",
      "include_colab_link": true
    },
    "kernelspec": {
      "name": "python3",
      "display_name": "Python 3"
    },
    "language_info": {
      "name": "python"
    }
  },
  "cells": [
    {
      "cell_type": "markdown",
      "metadata": {
        "id": "view-in-github",
        "colab_type": "text"
      },
      "source": [
        "<a href=\"https://colab.research.google.com/github/train-hong/metro-json/blob/main/%E5%A4%A7%E6%95%B8%E6%93%9A%E6%87%89%E7%94%A8%E5%B0%88%E9%A1%8C.ipynb\" target=\"_parent\"><img src=\"https://colab.research.google.com/assets/colab-badge.svg\" alt=\"Open In Colab\"/></a>"
      ]
    },
    {
      "cell_type": "code",
      "metadata": {
        "id": "Yc5TaS2Pui7F",
        "colab": {
          "base_uri": "https://localhost:8080/"
        },
        "outputId": "526206ed-ebca-4248-aaca-72fcdf440ea7"
      },
      "source": [
        "from datetime import datetime\n",
        "import pytz, sys, requests\n",
        "\n",
        "stas = requests.get(\"https://raw.githubusercontent.com/train-hong/metro-json/main/TRTC.json\").json() #站名來源\n",
        "\n",
        "sta = {} #key = 路線, value = {流水號: 車站編號, 站名}\n",
        "for i in stas:\n",
        "  sta[i[\"LineNo\"]] = {}\n",
        "  for j in i[\"Stations\"]:\n",
        "    sta[i[\"LineNo\"]][j[\"Sequence\"]] = [j[\"StationID\"], j[\"StationName\"][\"Zh_tw\"]]\n",
        "Luzhou = [13, 14, 16, 19, 20]\n",
        "Huilong = [12, 15, 17, 18, 21, 22, 23, 24, 25]\n",
        "for i in range(13, 22):\n",
        "  del sta[\"O\"][i]\n",
        "for i in range(13, 18):\n",
        "  Lz = stas[3][\"Stations\"][Luzhou[i-13]]\n",
        "  sta[\"O\"][i] = [Lz[\"StationID\"], Lz[\"StationName\"][\"Zh_tw\"]]\n",
        "for i in range(18, 27):\n",
        "  Hl = stas[3][\"Stations\"][Huilong[i-18]]\n",
        "  sta[\"O\"][i] = [Hl[\"StationID\"], Hl[\"StationName\"][\"Zh_tw\"]]\n",
        "del sta[\"G\"][20]\n",
        "del sta[\"R\"][28]\n",
        "\n",
        "print(\"1 淡水信義線\\n2 松山新店線\\n3 板南線\\n4 中和新蘆線\")\n",
        "line = int(input(\"Please enter your line number: \"))\n",
        "print('')\n",
        "st = [] #車站時刻表(station timetable)\n",
        "ln = [\"R\", \"G\", \"BL\", \"O\"] #linenumber\n",
        "tt = requests.get(f\"https://raw.githubusercontent.com/ericyu/TaipeiMetroTimeTable/master/Lines/{ln[line-1]}.json\").json() #時刻表(timetable)\n",
        "w = int(datetime.now(pytz.timezone('ROC')).strftime(\"%w\")) #現在星期幾\n",
        "wq = [2, 0, 0, 0, 0, 0, 1] #星期幾轉換為要引用的時刻表(weekday quote)\n",
        "bwq = [3, 0, 0, 0, 0, 1, 2] #板南線引用的時刻表(blue weekday quote)\n",
        "\n",
        "if line == 1:\n",
        "  print(\"1 淡水\\n2 象山\")\n",
        "  di = int(input(\"Please enter your direction number: \")) #red line direction\n",
        "  print('')\n",
        "  for i in sta[ln[0]]:\n",
        "    print(i, sta[ln[0]][i][1])\n",
        "  sn = int(input(\"Please enter your station number: \")) #station now\n",
        "  print('')  \n",
        "  if sn == 1 and di == 2:\n",
        "    sys.exit(\"你已經在淡水囉\")\n",
        "  elif sn == 27 and di == 1:\n",
        "    sys.exit(\"你已經在象山囉\")\n",
        "  for i in tt[di-1][\"Timetables\"][wq[w]][\"Trains\"]:\n",
        "    for j in i[\"Schedule\"]:\n",
        "      if j[\"StationCode\"] == sta[\"R\"][sn][0]:\n",
        "        st.append(j)\n",
        "\n",
        "elif line == 2:\n",
        "  print(\"1 新店\\n2 松山\")\n",
        "  di = int(input(\"Please enter your direction number: \")) #green line direction\n",
        "  print('')\n",
        "  for i in sta[ln[1]]:\n",
        "    print(i, sta[ln[1]][i][1])\n",
        "  sn = int(input(\"Please enter your station number: \"))\n",
        "  print('')\n",
        "  if sn == 1 and di == 1:\n",
        "    sys.exit(\"你已經在松山囉\")\n",
        "  elif sn == 19 and di == 2:\n",
        "    sys.exit(\"你已經在新店囉\")\n",
        "  for i in tt[di-1][\"Timetables\"][wq[w]][\"Trains\"]:\n",
        "    for j in i[\"Schedule\"]:\n",
        "      if j[\"StationCode\"] == sta[\"G\"][sn][0]:\n",
        "        st.append(j)\n",
        "\n",
        "elif line == 3:\n",
        "  print(\"1 南港展覽館\\n2 頂埔\")\n",
        "  di = int(input(\"Please enter your direction number: \"))\n",
        "  print('')\n",
        "  for i in sta[ln[2]]:\n",
        "    print(i, sta[ln[2]][i][1])\n",
        "  sn = int(input(\"Please enter your station number: \"))\n",
        "  print('')\n",
        "  if sn == 23 and di == 1:\n",
        "    sys.exit(\"你已經在南港展覽館囉\")\n",
        "  elif sn == 1 and di == 2:\n",
        "    sys.exit(\"你已經在頂埔囉\")\n",
        "  for i in tt[di-1][\"Timetables\"][bwq[w]][\"Trains\"]:\n",
        "    for j in i[\"Schedule\"]:\n",
        "      if j[\"StationCode\"] == sta[\"BL\"][sn][0]:\n",
        "        st.append(j)\n",
        "\n",
        "elif line == 4:\n",
        "  print(\"1 南勢角\\n2 蘆洲、迴龍\")\n",
        "  di = int(input(\"Please enter your direction number: \"))\n",
        "  print('')\n",
        "  for i in sta[ln[3]]:\n",
        "    print(i, sta[ln[3]][i][1])\n",
        "  sn = int(input(\"Please enter your station number: \"))\n",
        "  print('')\n",
        "  if sn == 1 and di == 1:\n",
        "    sys.exit(\"你已經在南勢角囉\")\n",
        "  elif sn == 17 and di == 2:\n",
        "    sys.exit(\"你已經在蘆洲囉\")\n",
        "  elif sn == 26 and di == 2:\n",
        "    sys.exit(\"你已經在迴龍囉\")\n",
        "  for i in tt[di-1][\"Timetables\"][wq[w]][\"Trains\"]:\n",
        "    for j in i[\"Schedule\"]:\n",
        "      if j[\"StationCode\"] == sta[\"O\"][sn][0]:\n",
        "        st.append(j)\n",
        "\n",
        "#h = int(datetime.now(pytz.timezone('ROC')).strftime(\"%-H\")) #現在幾點（小時）\n",
        "#m = int(datetime.now(pytz.timezone('ROC')).strftime(\"%-M\")) #現在幾點（分鐘）\n",
        "tn = 8*60 + 35 #time now \n",
        "jt = []\n",
        "dt = []\n",
        "for i in st:\n",
        "  dt.append(i[\"DepTime\"])\n",
        "for i in dt:\n",
        "  jt.append((int(i[0])*10 + int(i[1])) * 60 + int(i[3])*10 + int(i[4]))\n",
        "jt.sort()\n",
        "if tn > jt[-1]:\n",
        "  tn = tn-1440\n",
        "jt.append(tn)\n",
        "jt.sort()\n",
        "tnp = jt.index(tn) #time now position\n",
        "if jt[tnp+1] == tn:\n",
        "  at = 0 #arrive time\n",
        "else:\n",
        "  at = jt[tnp+1] - tn\n",
        "\n",
        "print('{}站往{}方向列車 距離下次發車還有{}分鐘'.format(sta[ln[line-1]][sn][1], tt[di-1][\"Direction\"], at))"
      ],
      "execution_count": 64,
      "outputs": [
        {
          "output_type": "stream",
          "text": [
            "1 淡水信義線\n",
            "2 松山新店線\n",
            "3 板南線\n",
            "4 中和新蘆線\n",
            "Please enter your line number: 3\n",
            "\n",
            "1 南港展覽館\n",
            "2 頂埔\n",
            "Please enter your direction number: 1\n",
            "\n",
            "1 頂埔\n",
            "2 永寧\n",
            "3 土城\n",
            "4 海山\n",
            "5 亞東醫院\n",
            "6 府中\n",
            "7 板橋\n",
            "8 新埔\n",
            "9 江子翠\n",
            "10 龍山寺\n",
            "11 西門\n",
            "12 台北車站\n",
            "13 善導寺\n",
            "14 忠孝新生\n",
            "15 忠孝復興\n",
            "16 忠孝敦化\n",
            "17 國父紀念館\n",
            "18 市政府\n",
            "19 永春\n",
            "20 後山埤\n",
            "21 昆陽\n",
            "22 南港\n",
            "23 南港展覽館\n",
            "Please enter your station number: 18\n",
            "\n",
            "市政府站往南港展覽館方向列車 距離下次發車還有2分鐘\n"
          ],
          "name": "stdout"
        }
      ]
    },
    {
      "cell_type": "code",
      "metadata": {
        "id": "wm59oKrIkVv4",
        "colab": {
          "base_uri": "https://localhost:8080/"
        },
        "outputId": "bc76a004-6b7c-4b74-ad36-f3d256f1a298"
      },
      "source": [
        "11\n",
        "111111111111111111111111121"
      ],
      "execution_count": null,
      "outputs": [
        {
          "output_type": "execute_result",
          "data": {
            "text/plain": [
              "11111111111111121"
            ]
          },
          "metadata": {
            "tags": []
          },
          "execution_count": 11
        }
      ]
    },
    {
      "cell_type": "code",
      "metadata": {
        "id": "YgD4T-iaCdsS"
      },
      "source": [
        ""
      ],
      "execution_count": null,
      "outputs": []
    },
    {
      "cell_type": "markdown",
      "metadata": {
        "id": "Ay-dsViGNpvU"
      },
      "source": [
        "週一～五<br>\n",
        "往北投 21站 象山～北投 0-50 51台車<br>\n",
        "往淡水 27站 象山～淡水 51-200 150台車<br>\n",
        "往北投 18站 大安～北投 201-287 87台車<br>\n",
        "往淡水 24站 大安～淡水 288-291 4台車<br>\n",
        "往淡水 19站 台北車站～淡水 292 1台車<br>\n",
        "往淡水 14站 劍潭～淡水 293 1台車<br>\n",
        "往淡水 9站 唭哩岸～淡水 294 1台車<br>\n",
        "往淡水 5站 忠義～淡水 295-305 11台車<br>\n",
        "往淡水 2站 紅樹林～淡水 306 1台車<br><br>\n",
        "週六<br>\n",
        "往北投 21站 象山～北投 0-2<br>\n",
        "往淡水 27站 象山～淡水 3-123<br>\n",
        "往北投 18站 大安～北投 124-225<br>\n",
        "往淡水 24站 大安～淡水 226-229<br>\n",
        "往淡水 19站 台北車站～淡水 230<br>\n",
        "往淡水 14站 劍潭～淡水 231<br>\n",
        "往淡水 9站 唭哩岸～淡水 232<br>\n",
        "往淡水 5站 忠義～淡水 233-236<br>\n",
        "往淡水 2站 紅樹林～淡水 237<br><br>\n",
        "週日<br>\n",
        "往北投 21站 象山～北投 0-2<br>\n",
        "往淡水 27站 象山～淡水 3-123<br>\n",
        "往北投 18站 大安～北投 124-225<br>\n",
        "往淡水 24站 大安～淡水 226-229<br>\n",
        "往淡水 19站 台北車站～淡水 230<br>\n",
        "往淡水 14站 劍潭～淡水 231<br>\n",
        "往淡水 9站 唭哩岸～淡水 232<br>\n",
        "往淡水 5站 忠義～淡水 233-236<br>\n",
        "往淡水 2站 紅樹林～淡水 237<br><br>"
      ]
    }
  ]
}
